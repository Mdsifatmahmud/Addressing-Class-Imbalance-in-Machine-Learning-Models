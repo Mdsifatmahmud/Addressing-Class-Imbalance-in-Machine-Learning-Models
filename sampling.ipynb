{
 "cells": [
  {
   "cell_type": "code",
   "execution_count": 2,
   "metadata": {},
   "outputs": [],
   "source": [
    "import numpy as np\n",
    "import pandas as pd\n",
    "from sklearn.datasets import load_breast_cancer\n",
    "from sklearn.model_selection import train_test_split\n",
    "from sklearn.preprocessing import StandardScaler\n",
    "from sklearn.neighbors import KNeighborsClassifier\n",
    "from sklearn.naive_bayes import GaussianNB\n",
    "from sklearn.tree import DecisionTreeClassifier\n",
    "from sklearn.metrics import precision_score, recall_score, roc_auc_score, confusion_matrix\n",
    "from imblearn.over_sampling import RandomOverSampler, SMOTE\n",
    "from imblearn.under_sampling import RandomUnderSampler\n",
    "from sklearn.neighbors import KernelDensity"
   ]
  },
  {
   "cell_type": "code",
   "execution_count": 3,
   "metadata": {},
   "outputs": [],
   "source": [
    "data = load_breast_cancer()\n",
    "X, y = data.data, data.target"
   ]
  },
  {
   "cell_type": "code",
   "execution_count": 4,
   "metadata": {},
   "outputs": [],
   "source": [
    "# Split and scale data\n",
    "X_train, X_test, y_train, y_test = train_test_split(\n",
    "    X, y, test_size=0.2, random_state=42, stratify=y\n",
    ")\n",
    "scaler = StandardScaler()\n",
    "X_train_scaled = scaler.fit_transform(X_train)\n",
    "X_test_scaled = scaler.transform(X_test)"
   ]
  },
  {
   "cell_type": "code",
   "execution_count": 5,
   "metadata": {},
   "outputs": [],
   "source": [
    "# Custom ROSE implementation\n",
    "def apply_ROSE(X, y, minority_class=0, random_state=None):\n",
    "    X_min = X[y == minority_class]\n",
    "    if len(X_min) == 0:\n",
    "        return X, y\n",
    "    \n",
    "    # Calculate samples to generate\n",
    "    n_majority = sum(y != minority_class)\n",
    "    n_to_generate = n_majority - len(X_min)\n",
    "    \n",
    "    if n_to_generate <= 0:\n",
    "        return X, y\n",
    "    \n",
    "    # Generate synthetic samples using KDE\n",
    "    kde = KernelDensity(kernel='gaussian', bandwidth=0.5)\n",
    "    kde.fit(X_min)\n",
    "    synthetic_samples = kde.sample(n_to_generate, random_state=random_state)\n",
    "    \n",
    "    return (\n",
    "        np.vstack([X, synthetic_samples]),\n",
    "        np.hstack([y, np.full(n_to_generate, minority_class)])\n",
    ")"
   ]
  },
  {
   "cell_type": "code",
   "execution_count": 6,
   "metadata": {},
   "outputs": [],
   "source": [
    "# Define models and resamplers\n",
    "models = {\n",
    "    'KNN': KNeighborsClassifier(),\n",
    "    'NB': GaussianNB(),\n",
    "    'DT': DecisionTreeClassifier(random_state=42)\n",
    "}\n",
    "\n",
    "resamplers = {\n",
    "    'ROS': RandomOverSampler(random_state=42),\n",
    "    'RUS': RandomUnderSampler(random_state=42),\n",
    "    'SMOTE': SMOTE(random_state=42),\n",
    "    'ROSE': None  # Handled separately\n",
    "}\n"
   ]
  },
  {
   "cell_type": "code",
   "execution_count": 7,
   "metadata": {},
   "outputs": [],
   "source": [
    "# Evaluate models\n",
    "results = []\n",
    "\n",
    "for method in resamplers:\n",
    "    if method == 'ROSE':\n",
    "        X_res, y_res = apply_ROSE(X_train_scaled, y_train)\n",
    "    else:\n",
    "        X_res, y_res = resamplers[method].fit_resample(X_train_scaled, y_train)\n",
    "    \n",
    "    for model_name in models:\n",
    "        model = models[model_name].fit(X_res, y_res)\n",
    "        y_pred = model.predict(X_test_scaled)\n",
    "        y_proba = model.predict_proba(X_test_scaled)[:, 0]\n",
    "        \n",
    "        # Calculate metrics\n",
    "        precision = precision_score(y_test, y_pred, pos_label=0)\n",
    "        recall = recall_score(y_test, y_pred, pos_label=0)\n",
    "        auc = roc_auc_score(y_test, y_proba)\n",
    "        \n",
    "        # Calculate G-Mean\n",
    "        tn, fp, fn, tp = confusion_matrix(y_test, y_pred).ravel()\n",
    "        specificity = tn / (tn + fp)\n",
    "        gmean = np.sqrt(recall * specificity)\n",
    "        \n",
    "        results.append({\n",
    "            'Method': method,\n",
    "            'Model': model_name,\n",
    "            'Precision': round(precision, 2),\n",
    "            'Recall': round(recall, 2),\n",
    "            'G-Mean': round(gmean, 2),\n",
    "            'AUC': round(auc, 2)\n",
    "        })"
   ]
  },
  {
   "cell_type": "code",
   "execution_count": 9,
   "metadata": {},
   "outputs": [
    {
     "name": "stdout",
     "output_type": "stream",
     "text": [
      "   Method Model  Precision  Recall  G-Mean   AUC\n",
      "2     ROS    DT       0.90    0.86    0.86  0.10\n",
      "11   ROSE    DT       0.82    0.95    0.95  0.09\n",
      "8   SMOTE    DT       0.91    0.93    0.93  0.06\n",
      "5     RUS    DT       0.95    0.93    0.93  0.05\n",
      "0     ROS   KNN       0.89    0.95    0.95  0.02\n",
      "6   SMOTE   KNN       0.87    0.93    0.93  0.02\n",
      "9    ROSE   KNN       0.93    0.93    0.93  0.02\n",
      "1     ROS    NB       0.90    0.90    0.90  0.01\n",
      "3     RUS   KNN       0.89    0.98    0.98  0.01\n",
      "4     RUS    NB       0.90    0.90    0.90  0.01\n",
      "7   SMOTE    NB       0.93    0.90    0.90  0.01\n",
      "10   ROSE    NB       0.90    0.90    0.90  0.01\n"
     ]
    }
   ],
   "source": [
    " \n",
    "results_df = pd.DataFrame(results)\n",
    "print(results_df.sort_values(by='AUC', ascending=False))\n"
   ]
  }
 ],
 "metadata": {
  "kernelspec": {
   "display_name": "Python 3",
   "language": "python",
   "name": "python3"
  },
  "language_info": {
   "codemirror_mode": {
    "name": "ipython",
    "version": 3
   },
   "file_extension": ".py",
   "mimetype": "text/x-python",
   "name": "python",
   "nbconvert_exporter": "python",
   "pygments_lexer": "ipython3",
   "version": "3.12.7"
  }
 },
 "nbformat": 4,
 "nbformat_minor": 2
}
